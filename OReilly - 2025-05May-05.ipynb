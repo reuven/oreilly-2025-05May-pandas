{
 "cells": [
  {
   "cell_type": "markdown",
   "metadata": {},
   "source": [
    "# Agenda: Data analysis in 3 weeks\n",
    "\n",
    "1. Getting started + series\n",
    "    - What is Pandas?\n",
    "    - Getting started with Pandas\n",
    "    - What is a series?\n",
    "    - Useful methods\n",
    "    - Setting and retrieving values\n",
    "    - Broadcasting\n",
    "    - Mask arrays (\"boolean arrays\")\n",
    "    - Indexes\n",
    "    - Dtypes, including `NaN`\n",
    "2. Data frames -- 2D data\n",
    "    - Creating data frames\n",
    "    - Adding and removing data\n",
    "    - Querying with boolean indexes\n",
    "    - Using `.loc` and `.iloc`\n",
    "    - Reading CSV files\n",
    "    - Reading HTML, Excel\n",
    "3. Analyzing our data\n",
    "    - Sorting\n",
    "    - Grouping\n",
    "    - Joining\n",
    "    - Basic plotting and visualization"
   ]
  },
  {
   "cell_type": "markdown",
   "metadata": {},
   "source": [
    "# What is data analysis? What does Python have to do with it?\n",
    "\n",
    "You might have heard about \"data science.\" I define things as follows:\n",
    "\n",
    "- Data analysis: Learning about the past, based on data you've collected\n",
    "- Machine learning (or AI): Given past experience, how would we predict the future?\n",
    "- Data science is the combination of these two things\n",
    "\n",
    "If we have data, then we can analyze it! We can learn about it, which is good for:\n",
    "\n",
    "- Us\n",
    "- Our company\n",
    "- Our organization\n",
    "- People in general (medical, scientific progress)\n",
    "\n",
    "We can get data from all over:\n",
    "- Our phones produce (and collect) lots of data\n",
    "- Web sites we browse\n",
    "- Social media\n",
    "- When we buy things online\n",
    "\n",
    "## Why Python?\n",
    "\n",
    "Python is a really easy to use language, but it isn't known for being very fast, very good with numbers, or good at being memory efficient. How can it be that data analytics, which involves lots of calculations with large data sets, is somehow dominated by Python?\n",
    "\n",
    "If we were to use regular Python data structures, it would be very bad. But we aren't going to use Python's integers and floats. Rather, we're going to use NumPy, which provides a thin layer of Python over a C-language implementation of numbers. Pandas provides us with a layer over NumPy which is easier to work with and provides a lot of extra functionality.\n",
    "\n",
    "You get the best of all worlds:\n",
    "\n",
    "- Access to Python's relatively easy learning curve\n",
    "- Python's extensive library\n",
    "- Speed of NumPy\n",
    "- Convenience of Pandas\n",
    "\n",
    "## What's the bad news here?\n",
    "\n",
    "If you're used to standard Python data types, such as ints, floats, and strings, you're going to learn a lot of new ways to think about data. \n",
    "\n",
    "- You won't want to run `for` loops with your Pandas series and data frames.\n",
    "- You won't want to use `if` to make decisions in Pandas\n",
    "\n"
   ]
  },
  {
   "cell_type": "markdown",
   "metadata": {},
   "source": [
    "# How can we use Pandas?\n",
    "\n",
    "(I'm going to assume that you know how to install things from PyPI with `pip` or `uv`.)\n",
    "\n",
    "We can load Pandas with a simple"
   ]
  },
  {
   "cell_type": "code",
   "execution_count": 1,
   "metadata": {},
   "outputs": [],
   "source": [
    "import pandas as pd    # everyone, but *everyone*, defines the \"pd\" alias"
   ]
  },
  {
   "cell_type": "code",
   "execution_count": 2,
   "metadata": {},
   "outputs": [
    {
     "data": {
      "text/plain": [
       "'2.2.3'"
      ]
     },
     "execution_count": 2,
     "metadata": {},
     "output_type": "execute_result"
    }
   ],
   "source": [
    "# what version of Pandas am I running?\n",
    "\n",
    "pd.__version__"
   ]
  },
  {
   "cell_type": "markdown",
   "metadata": {},
   "source": [
    "# Today's focus is *series*\n",
    "\n",
    "A Pandas series is a one-dimensional data structure, similar in many ways to a Python list.  This is the cornerstone of everything we do in Pandas. \n",
    "\n",
    "A data frame is a 2D table in Pandas. Each of its columns is a Pandas series."
   ]
  },
  {
   "cell_type": "code",
   "execution_count": 3,
   "metadata": {},
   "outputs": [],
   "source": [
    "# a simple series\n",
    "\n",
    "# we create a series by giving it (among other things) a list of Python integers\n",
    "\n",
    "s = pd.Series([10, 20, 30, 40, 50])"
   ]
  },
  {
   "cell_type": "code",
   "execution_count": 4,
   "metadata": {},
   "outputs": [
    {
     "data": {
      "text/plain": [
       "0    10\n",
       "1    20\n",
       "2    30\n",
       "3    40\n",
       "4    50\n",
       "dtype: int64"
      ]
     },
     "execution_count": 4,
     "metadata": {},
     "output_type": "execute_result"
    }
   ],
   "source": [
    "# let's take a look at s!\n",
    "\n",
    "s"
   ]
  },
  {
   "cell_type": "code",
   "execution_count": 5,
   "metadata": {},
   "outputs": [
    {
     "data": {
      "text/plain": [
       "pandas.core.series.Series"
      ]
     },
     "execution_count": 5,
     "metadata": {},
     "output_type": "execute_result"
    }
   ],
   "source": [
    "type(s)"
   ]
  },
  {
   "cell_type": "markdown",
   "metadata": {},
   "source": [
    "# Some basic operations on a series\n",
    "\n",
    "Most operations are written as methods. For example: \n",
    "\n",
    "- `.mean()` gives us the numeric mean of the values\n",
    "- `.min()` and `.max()` which give ue the min/max values\n",
    "- `.std()` gives us the standard deviation, meaning how much the numbers \"wiggle\" from the mean\n",
    "- `.sum()` sums the numbers\n",
    "- `.count()` tells us how many values there are"
   ]
  },
  {
   "cell_type": "code",
   "execution_count": 6,
   "metadata": {},
   "outputs": [
    {
     "data": {
      "text/plain": [
       "np.float64(30.0)"
      ]
     },
     "execution_count": 6,
     "metadata": {},
     "output_type": "execute_result"
    }
   ],
   "source": [
    "s.mean()"
   ]
  },
  {
   "cell_type": "code",
   "execution_count": 7,
   "metadata": {},
   "outputs": [
    {
     "data": {
      "text/plain": [
       "np.int64(10)"
      ]
     },
     "execution_count": 7,
     "metadata": {},
     "output_type": "execute_result"
    }
   ],
   "source": [
    "s.min()"
   ]
  },
  {
   "cell_type": "code",
   "execution_count": 8,
   "metadata": {},
   "outputs": [
    {
     "data": {
      "text/plain": [
       "np.int64(50)"
      ]
     },
     "execution_count": 8,
     "metadata": {},
     "output_type": "execute_result"
    }
   ],
   "source": [
    "s.max()"
   ]
  },
  {
   "cell_type": "code",
   "execution_count": 9,
   "metadata": {},
   "outputs": [
    {
     "data": {
      "text/plain": [
       "np.float64(15.811388300841896)"
      ]
     },
     "execution_count": 9,
     "metadata": {},
     "output_type": "execute_result"
    }
   ],
   "source": [
    "s.std()"
   ]
  },
  {
   "cell_type": "code",
   "execution_count": 10,
   "metadata": {},
   "outputs": [
    {
     "data": {
      "text/plain": [
       "np.int64(150)"
      ]
     },
     "execution_count": 10,
     "metadata": {},
     "output_type": "execute_result"
    }
   ],
   "source": [
    "s.sum()"
   ]
  },
  {
   "cell_type": "code",
   "execution_count": 11,
   "metadata": {},
   "outputs": [
    {
     "data": {
      "text/plain": [
       "np.int64(5)"
      ]
     },
     "execution_count": 11,
     "metadata": {},
     "output_type": "execute_result"
    }
   ],
   "source": [
    "s.count()"
   ]
  },
  {
   "cell_type": "markdown",
   "metadata": {},
   "source": [
    "# Exercise: Weather forecast\n",
    "\n",
    "1. Create a series with the forecast high temps for your city in the next 10 days.\n",
    "2. What will be the highest temperature?\n",
    "3. What will be the mean temperature?\n",
    "4. What will be the lowest temperature"
   ]
  },
  {
   "cell_type": "code",
   "execution_count": 12,
   "metadata": {},
   "outputs": [
    {
     "data": {
      "text/plain": [
       "0    27\n",
       "1    29\n",
       "2    32\n",
       "3    36\n",
       "4    37\n",
       "5    36\n",
       "6    30\n",
       "7    32\n",
       "8    31\n",
       "9    30\n",
       "dtype: int64"
      ]
     },
     "execution_count": 12,
     "metadata": {},
     "output_type": "execute_result"
    }
   ],
   "source": [
    "s = pd.Series([27, 29, 32, 36, 37, 36, 30, 32, 31, 30])\n",
    "\n",
    "s"
   ]
  },
  {
   "cell_type": "code",
   "execution_count": 13,
   "metadata": {},
   "outputs": [
    {
     "data": {
      "text/plain": [
       "np.int64(37)"
      ]
     },
     "execution_count": 13,
     "metadata": {},
     "output_type": "execute_result"
    }
   ],
   "source": [
    "s.max()"
   ]
  },
  {
   "cell_type": "code",
   "execution_count": 14,
   "metadata": {},
   "outputs": [
    {
     "data": {
      "text/plain": [
       "np.float64(32.0)"
      ]
     },
     "execution_count": 14,
     "metadata": {},
     "output_type": "execute_result"
    }
   ],
   "source": [
    "s.mean()"
   ]
  },
  {
   "cell_type": "code",
   "execution_count": 15,
   "metadata": {},
   "outputs": [
    {
     "data": {
      "text/plain": [
       "np.int64(27)"
      ]
     },
     "execution_count": 15,
     "metadata": {},
     "output_type": "execute_result"
    }
   ],
   "source": [
    "s.min()"
   ]
  },
  {
   "cell_type": "code",
   "execution_count": 16,
   "metadata": {},
   "outputs": [
    {
     "data": {
      "text/plain": [
       "np.float64(3.3333333333333335)"
      ]
     },
     "execution_count": 16,
     "metadata": {},
     "output_type": "execute_result"
    }
   ],
   "source": [
    "s.std()"
   ]
  },
  {
   "cell_type": "code",
   "execution_count": 17,
   "metadata": {},
   "outputs": [
    {
     "data": {
      "text/plain": [
       "np.float64(28.666666666666668)"
      ]
     },
     "execution_count": 17,
     "metadata": {},
     "output_type": "execute_result"
    }
   ],
   "source": [
    "s.mean() - s.std()"
   ]
  },
  {
   "cell_type": "code",
   "execution_count": 18,
   "metadata": {},
   "outputs": [
    {
     "data": {
      "text/plain": [
       "np.float64(35.333333333333336)"
      ]
     },
     "execution_count": 18,
     "metadata": {},
     "output_type": "execute_result"
    }
   ],
   "source": [
    "s.mean() + s.std()"
   ]
  },
  {
   "cell_type": "code",
   "execution_count": 19,
   "metadata": {},
   "outputs": [],
   "source": [
    "# most of the temps in the coming week will be from 28.6 - 35.3"
   ]
  },
  {
   "cell_type": "code",
   "execution_count": 20,
   "metadata": {},
   "outputs": [
    {
     "data": {
      "text/plain": [
       "np.float64(31.5)"
      ]
     },
     "execution_count": 20,
     "metadata": {},
     "output_type": "execute_result"
    }
   ],
   "source": [
    "# you might remember that there is *another* kind of average we can calculate\n",
    "# that is the *median*. That is calculated by taking all of the values in a series,\n",
    "# from smallest to largest, and we take the middle one.  \n",
    "\n",
    "s.median()   # same as s.quantile(0.5)"
   ]
  },
  {
   "cell_type": "markdown",
   "metadata": {},
   "source": [
    "# Why the median?\n",
    "\n",
    "It's easy for a few outliers to skew the mean, either higher or lower.  By using the median, we know that we're getting a \"middle\" value, and one that is actually higher than half and lower than half.  \n",
    "\n",
    "You might also be interested in the first-quartile and third-quartile values, meaning the 25% mark and the 75% mark."
   ]
  },
  {
   "cell_type": "code",
   "execution_count": 21,
   "metadata": {},
   "outputs": [
    {
     "data": {
      "text/plain": [
       "np.float64(30.0)"
      ]
     },
     "execution_count": 21,
     "metadata": {},
     "output_type": "execute_result"
    }
   ],
   "source": [
    "s.quantile(0.25)"
   ]
  },
  {
   "cell_type": "code",
   "execution_count": 22,
   "metadata": {},
   "outputs": [
    {
     "data": {
      "text/plain": [
       "np.float64(35.0)"
      ]
     },
     "execution_count": 22,
     "metadata": {},
     "output_type": "execute_result"
    }
   ],
   "source": [
    "s.quantile(0.75)"
   ]
  },
  {
   "cell_type": "code",
   "execution_count": 23,
   "metadata": {},
   "outputs": [
    {
     "data": {
      "text/plain": [
       "np.float64(5.0)"
      ]
     },
     "execution_count": 23,
     "metadata": {},
     "output_type": "execute_result"
    }
   ],
   "source": [
    "# you can even calculate the IQR -- inter-quartile range -- which tells us the distance between\n",
    "# the 25% mark and the 75% mark\n",
    "\n",
    "s.quantile(0.75) - s.quantile(0.25)"
   ]
  },
  {
   "cell_type": "markdown",
   "metadata": {},
   "source": [
    "A famous statistician, John Tukey, loved the use of median and IQR. He described the \"five figure summary\" for a data set, so that we can have a good \"picture\" of its behavior:\n",
    "\n",
    "- min\n",
    "- median\n",
    "- iqr\n",
    "- max\n",
    "- mean"
   ]
  },
  {
   "cell_type": "code",
   "execution_count": 24,
   "metadata": {},
   "outputs": [
    {
     "data": {
      "text/plain": [
       "count    10.000000\n",
       "mean     32.000000\n",
       "std       3.333333\n",
       "min      27.000000\n",
       "25%      30.000000\n",
       "50%      31.500000\n",
       "75%      35.000000\n",
       "max      37.000000\n",
       "dtype: float64"
      ]
     },
     "execution_count": 24,
     "metadata": {},
     "output_type": "execute_result"
    }
   ],
   "source": [
    "# in Pandas, we can get all of these (more or less), plus a few more, with the \"describe\" method\n",
    "\n",
    "s.describe()"
   ]
  },
  {
   "cell_type": "markdown",
   "metadata": {},
   "source": [
    "# Some other really useful methods for working with your data\n",
    "\n",
    "- Get the first few values with `head`\n",
    "- Get the last few values with `tail`\n",
    "\n",
    "In both cases, we get 5 values by default, but can pass any number we want."
   ]
  },
  {
   "cell_type": "code",
   "execution_count": 25,
   "metadata": {},
   "outputs": [
    {
     "data": {
      "text/plain": [
       "0    27\n",
       "1    29\n",
       "2    32\n",
       "3    36\n",
       "4    37\n",
       "dtype: int64"
      ]
     },
     "execution_count": 25,
     "metadata": {},
     "output_type": "execute_result"
    }
   ],
   "source": [
    "s.head(5)"
   ]
  },
  {
   "cell_type": "code",
   "execution_count": 26,
   "metadata": {},
   "outputs": [
    {
     "data": {
      "text/plain": [
       "5    36\n",
       "6    30\n",
       "7    32\n",
       "8    31\n",
       "9    30\n",
       "dtype: int64"
      ]
     },
     "execution_count": 26,
     "metadata": {},
     "output_type": "execute_result"
    }
   ],
   "source": [
    "s.tail(5)"
   ]
  },
  {
   "cell_type": "code",
   "execution_count": 27,
   "metadata": {},
   "outputs": [
    {
     "data": {
      "text/plain": [
       "0    27\n",
       "dtype: int64"
      ]
     },
     "execution_count": 27,
     "metadata": {},
     "output_type": "execute_result"
    }
   ],
   "source": [
    "s.head(1)"
   ]
  },
  {
   "cell_type": "code",
   "execution_count": 28,
   "metadata": {},
   "outputs": [
    {
     "data": {
      "text/plain": [
       "7    32\n",
       "8    31\n",
       "9    30\n",
       "dtype: int64"
      ]
     },
     "execution_count": 28,
     "metadata": {},
     "output_type": "execute_result"
    }
   ],
   "source": [
    "s.tail(3)"
   ]
  },
  {
   "cell_type": "markdown",
   "metadata": {},
   "source": [
    "# My favorite method is : `value_counts`\n",
    "\n",
    "This counts how many times every value appears in a series. It returns a new series, one in which your original values are now the index, and the values in the new series are integers -- how many times did each value appear."
   ]
  },
  {
   "cell_type": "code",
   "execution_count": 29,
   "metadata": {},
   "outputs": [
    {
     "data": {
      "text/plain": [
       "0    27\n",
       "1    29\n",
       "2    32\n",
       "3    36\n",
       "4    37\n",
       "5    36\n",
       "6    30\n",
       "7    32\n",
       "8    31\n",
       "9    30\n",
       "dtype: int64"
      ]
     },
     "execution_count": 29,
     "metadata": {},
     "output_type": "execute_result"
    }
   ],
   "source": [
    "s"
   ]
  },
  {
   "cell_type": "code",
   "execution_count": 30,
   "metadata": {},
   "outputs": [
    {
     "data": {
      "text/plain": [
       "32    2\n",
       "36    2\n",
       "30    2\n",
       "27    1\n",
       "29    1\n",
       "37    1\n",
       "31    1\n",
       "Name: count, dtype: int64"
      ]
     },
     "execution_count": 30,
     "metadata": {},
     "output_type": "execute_result"
    }
   ],
   "source": [
    "s.value_counts()   # how often did each value in s appear?"
   ]
  },
  {
   "cell_type": "markdown",
   "metadata": {},
   "source": [
    "# Exercise: More with temperatures\n",
    "\n",
    "1. Compare the mean and median temperatures forecast for your city. Are they the same or similar? Why or why not?\n",
    "2. Calculate the IQR for your temperatures.\n",
    "3. What are the three most common temperatures forecast in your city?\n",
    "4. Using `head` and `tail`, get the temperatures forecast from the 4th day through the 8th day."
   ]
  },
  {
   "cell_type": "code",
   "execution_count": 34,
   "metadata": {},
   "outputs": [
    {
     "data": {
      "text/plain": [
       "np.float64(32.0)"
      ]
     },
     "execution_count": 34,
     "metadata": {},
     "output_type": "execute_result"
    }
   ],
   "source": [
    "s.mean()"
   ]
  },
  {
   "cell_type": "code",
   "execution_count": 35,
   "metadata": {},
   "outputs": [
    {
     "data": {
      "text/plain": [
       "np.float64(31.5)"
      ]
     },
     "execution_count": 35,
     "metadata": {},
     "output_type": "execute_result"
    }
   ],
   "source": [
    "s.median()"
   ]
  },
  {
   "cell_type": "code",
   "execution_count": 36,
   "metadata": {},
   "outputs": [
    {
     "data": {
      "text/plain": [
       "np.float64(5.0)"
      ]
     },
     "execution_count": 36,
     "metadata": {},
     "output_type": "execute_result"
    }
   ],
   "source": [
    "s.quantile(0.75) - s.quantile(0.25)"
   ]
  },
  {
   "cell_type": "code",
   "execution_count": 38,
   "metadata": {},
   "outputs": [
    {
     "data": {
      "text/plain": [
       "32    2\n",
       "36    2\n",
       "30    2\n",
       "Name: count, dtype: int64"
      ]
     },
     "execution_count": 38,
     "metadata": {},
     "output_type": "execute_result"
    }
   ],
   "source": [
    "s.value_counts().head(3) "
   ]
  },
  {
   "cell_type": "code",
   "execution_count": 41,
   "metadata": {},
   "outputs": [
    {
     "data": {
      "text/plain": [
       "3    36\n",
       "4    37\n",
       "5    36\n",
       "6    30\n",
       "7    32\n",
       "dtype: int64"
      ]
     },
     "execution_count": 41,
     "metadata": {},
     "output_type": "execute_result"
    }
   ],
   "source": [
    "s.tail(7).head(5)"
   ]
  },
  {
   "cell_type": "markdown",
   "metadata": {},
   "source": [
    "# Next up\n",
    "\n",
    "- Setting and retrieving values\n",
    "- Broadcasting"
   ]
  },
  {
   "cell_type": "code",
   "execution_count": null,
   "metadata": {},
   "outputs": [],
   "source": []
  }
 ],
 "metadata": {
  "kernelspec": {
   "display_name": "Python 3 (ipykernel)",
   "language": "python",
   "name": "python3"
  },
  "language_info": {
   "codemirror_mode": {
    "name": "ipython",
    "version": 3
   },
   "file_extension": ".py",
   "mimetype": "text/x-python",
   "name": "python",
   "nbconvert_exporter": "python",
   "pygments_lexer": "ipython3",
   "version": "3.13.2"
  }
 },
 "nbformat": 4,
 "nbformat_minor": 4
}
