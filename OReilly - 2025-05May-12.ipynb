{
 "cells": [
  {
   "cell_type": "markdown",
   "metadata": {},
   "source": [
    "# Day 2 -- data frames\n",
    "\n",
    "1. Q&A\n",
    "2. Data frames -- creating, and working with them\n",
    "3. Adding and removing data in our data frames\n",
    "4. Useful methods for our data frames\n",
    "5. Boolean indexes / mask indexes\n",
    "6. Using `.loc` to retrieve rows, rows/columns\n",
    "7. Reading data from outside sources\n",
    "    - Download this zipfile: https://files.lerner.co.il/data-science-exercise-files.zip\n",
    "    - Scraping HTML files\n",
    "    - Retrieving other formats"
   ]
  },
  {
   "cell_type": "code",
   "execution_count": null,
   "metadata": {},
   "outputs": [],
   "source": []
  }
 ],
 "metadata": {
  "kernelspec": {
   "display_name": "Python 3 (ipykernel)",
   "language": "python",
   "name": "python3"
  },
  "language_info": {
   "codemirror_mode": {
    "name": "ipython",
    "version": 3
   },
   "file_extension": ".py",
   "mimetype": "text/x-python",
   "name": "python",
   "nbconvert_exporter": "python",
   "pygments_lexer": "ipython3",
   "version": "3.13.1"
  },
  "widgets": {
   "application/vnd.jupyter.widget-state+json": {
    "state": {},
    "version_major": 2,
    "version_minor": 0
   }
  }
 },
 "nbformat": 4,
 "nbformat_minor": 4
}
